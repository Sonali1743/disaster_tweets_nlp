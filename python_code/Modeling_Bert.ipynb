{
 "cells": [
  {
   "cell_type": "markdown",
   "metadata": {},
   "source": [
    "### Importing libraries"
   ]
  },
  {
   "cell_type": "code",
   "execution_count": 1,
   "metadata": {},
   "outputs": [
    {
     "name": "stderr",
     "output_type": "stream",
     "text": [
      "/Users/sonali/.local/share/virtualenvs/nlp_disaster_prediction-hxrhPPxI/lib/python3.11/site-packages/tqdm/auto.py:21: TqdmWarning: IProgress not found. Please update jupyter and ipywidgets. See https://ipywidgets.readthedocs.io/en/stable/user_install.html\n",
      "  from .autonotebook import tqdm as notebook_tqdm\n"
     ]
    }
   ],
   "source": [
    "import numpy as np \n",
    "import pandas as pd \n",
    "from sklearn import feature_extraction, linear_model, model_selection, preprocessing, metrics\n",
    "from sklearn.model_selection import train_test_split\n",
    "from sklearn.metrics import classification_report, confusion_matrix, accuracy_score, roc_auc_score,f1_score\n",
    "from sklearn.feature_extraction.text import CountVectorizer\n",
    "import torch\n",
    "import matplotlib.pyplot as plt\n",
    "import spacy\n",
    "from transformers import BertTokenizer, BertForSequenceClassification, AdamW, get_linear_schedule_with_warmup\n",
    "from torch.utils.data import TensorDataset, random_split, DataLoader, RandomSampler, SequentialSampler"
   ]
  },
  {
   "cell_type": "code",
   "execution_count": 2,
   "metadata": {},
   "outputs": [],
   "source": [
    "# Reading training dataset\n",
    "train_df = pd.read_csv('/Users/sonali/Documents/Okstate/Spring\\'24/CS5723_Spring\\'24/Project/nlp-getting-started/train.csv')"
   ]
  },
  {
   "cell_type": "code",
   "execution_count": 3,
   "metadata": {},
   "outputs": [
    {
     "name": "stdout",
     "output_type": "stream",
     "text": [
      "Number of training tweets: 7613\n",
      "\n"
     ]
    },
    {
     "data": {
      "text/html": [
       "<div>\n",
       "<style scoped>\n",
       "    .dataframe tbody tr th:only-of-type {\n",
       "        vertical-align: middle;\n",
       "    }\n",
       "\n",
       "    .dataframe tbody tr th {\n",
       "        vertical-align: top;\n",
       "    }\n",
       "\n",
       "    .dataframe thead th {\n",
       "        text-align: right;\n",
       "    }\n",
       "</style>\n",
       "<table border=\"1\" class=\"dataframe\">\n",
       "  <thead>\n",
       "    <tr style=\"text-align: right;\">\n",
       "      <th></th>\n",
       "      <th>id</th>\n",
       "      <th>keyword</th>\n",
       "      <th>location</th>\n",
       "      <th>text</th>\n",
       "      <th>target</th>\n",
       "    </tr>\n",
       "  </thead>\n",
       "  <tbody>\n",
       "    <tr>\n",
       "      <th>1297</th>\n",
       "      <td>1875</td>\n",
       "      <td>burning</td>\n",
       "      <td>NaN</td>\n",
       "      <td>You Bitches Walking Around Like Yall Hot Shit ...</td>\n",
       "      <td>0</td>\n",
       "    </tr>\n",
       "    <tr>\n",
       "      <th>7269</th>\n",
       "      <td>10407</td>\n",
       "      <td>whirlwind</td>\n",
       "      <td>Sheff/Bangor/Salamanca/Madrid</td>\n",
       "      <td>@VixMeldrew sounds like a whirlwind life!</td>\n",
       "      <td>0</td>\n",
       "    </tr>\n",
       "    <tr>\n",
       "      <th>161</th>\n",
       "      <td>232</td>\n",
       "      <td>airplane%20accident</td>\n",
       "      <td>Havenford</td>\n",
       "      <td>+ Nicole Fletcher one of a victim of crashed a...</td>\n",
       "      <td>1</td>\n",
       "    </tr>\n",
       "    <tr>\n",
       "      <th>5465</th>\n",
       "      <td>7799</td>\n",
       "      <td>quarantine</td>\n",
       "      <td>PA</td>\n",
       "      <td>Reddit Will Now Quarantine Offensive Content h...</td>\n",
       "      <td>0</td>\n",
       "    </tr>\n",
       "    <tr>\n",
       "      <th>5123</th>\n",
       "      <td>7307</td>\n",
       "      <td>nuclear%20reactor</td>\n",
       "      <td>japon</td>\n",
       "      <td>Germany has  39 gigawatts of installed solar c...</td>\n",
       "      <td>0</td>\n",
       "    </tr>\n",
       "    <tr>\n",
       "      <th>355</th>\n",
       "      <td>512</td>\n",
       "      <td>army</td>\n",
       "      <td>NaN</td>\n",
       "      <td>Vote for #Directioners vs #Queens in the 5th r...</td>\n",
       "      <td>0</td>\n",
       "    </tr>\n",
       "    <tr>\n",
       "      <th>623</th>\n",
       "      <td>896</td>\n",
       "      <td>bioterrorism</td>\n",
       "      <td>Philadelphia, PA</td>\n",
       "      <td>@MeyerBjoern @thelonevirologi @MackayIM of a m...</td>\n",
       "      <td>1</td>\n",
       "    </tr>\n",
       "    <tr>\n",
       "      <th>4187</th>\n",
       "      <td>5949</td>\n",
       "      <td>hazard</td>\n",
       "      <td>NaN</td>\n",
       "      <td>Road Hazard @ CASCADE RD SW / CHILDRESS DR SW ...</td>\n",
       "      <td>0</td>\n",
       "    </tr>\n",
       "    <tr>\n",
       "      <th>2522</th>\n",
       "      <td>3625</td>\n",
       "      <td>desolation</td>\n",
       "      <td>infj</td>\n",
       "      <td>going to redo my nails and watch behind the sc...</td>\n",
       "      <td>1</td>\n",
       "    </tr>\n",
       "    <tr>\n",
       "      <th>4982</th>\n",
       "      <td>7108</td>\n",
       "      <td>military</td>\n",
       "      <td>Alaska</td>\n",
       "      <td>Mike Magner Discusses A Trust Betrayed: http:/...</td>\n",
       "      <td>0</td>\n",
       "    </tr>\n",
       "  </tbody>\n",
       "</table>\n",
       "</div>"
      ],
      "text/plain": [
       "         id              keyword                       location  \\\n",
       "1297   1875              burning                            NaN   \n",
       "7269  10407            whirlwind  Sheff/Bangor/Salamanca/Madrid   \n",
       "161     232  airplane%20accident                      Havenford   \n",
       "5465   7799           quarantine                             PA   \n",
       "5123   7307    nuclear%20reactor                          japon   \n",
       "355     512                 army                            NaN   \n",
       "623     896         bioterrorism               Philadelphia, PA   \n",
       "4187   5949               hazard                            NaN   \n",
       "2522   3625           desolation                          infj    \n",
       "4982   7108             military                         Alaska   \n",
       "\n",
       "                                                   text  target  \n",
       "1297  You Bitches Walking Around Like Yall Hot Shit ...       0  \n",
       "7269          @VixMeldrew sounds like a whirlwind life!       0  \n",
       "161   + Nicole Fletcher one of a victim of crashed a...       1  \n",
       "5465  Reddit Will Now Quarantine Offensive Content h...       0  \n",
       "5123  Germany has  39 gigawatts of installed solar c...       0  \n",
       "355   Vote for #Directioners vs #Queens in the 5th r...       0  \n",
       "623   @MeyerBjoern @thelonevirologi @MackayIM of a m...       1  \n",
       "4187  Road Hazard @ CASCADE RD SW / CHILDRESS DR SW ...       0  \n",
       "2522  going to redo my nails and watch behind the sc...       1  \n",
       "4982  Mike Magner Discusses A Trust Betrayed: http:/...       0  "
      ]
     },
     "metadata": {},
     "output_type": "display_data"
    }
   ],
   "source": [
    "# Printing the number of tweets in training dataset and sample 10 tweets\n",
    "print(f'Number of training tweets: {train_df.shape[0]}\\n')\n",
    "display(train_df.sample(10))"
   ]
  },
  {
   "cell_type": "code",
   "execution_count": 4,
   "metadata": {},
   "outputs": [],
   "source": [
    "# Setting target variable as 'labels' and text variable as 'train_text'.\n",
    "labels = train_df['target'].values\n",
    "train_text = train_df['text'].values"
   ]
  },
  {
   "cell_type": "code",
   "execution_count": 5,
   "metadata": {},
   "outputs": [
    {
     "name": "stderr",
     "output_type": "stream",
     "text": [
      "/Users/sonali/.local/share/virtualenvs/nlp_disaster_prediction-hxrhPPxI/lib/python3.11/site-packages/huggingface_hub/file_download.py:1132: FutureWarning: `resume_download` is deprecated and will be removed in version 1.0.0. Downloads always resume when possible. If you want to force a new download, use `force_download=True`.\n",
      "  warnings.warn(\n"
     ]
    }
   ],
   "source": [
    "# Loading pre-trained Bert tokenizer\n",
    "tokenizer = BertTokenizer.from_pretrained('bert-base-uncased', do_lower_case=True)"
   ]
  },
  {
   "cell_type": "code",
   "execution_count": 6,
   "metadata": {},
   "outputs": [
    {
     "name": "stdout",
     "output_type": "stream",
     "text": [
      " Original:  Our Deeds are the Reason of this #earthquake May ALLAH Forgive us all\n",
      "Tokenized:  ['our', 'deeds', 'are', 'the', 'reason', 'of', 'this', '#', 'earthquake', 'may', 'allah', 'forgive', 'us', 'all']\n",
      "Token IDs:  [2256, 15616, 2024, 1996, 3114, 1997, 2023, 1001, 8372, 2089, 16455, 9641, 2149, 2035]\n"
     ]
    }
   ],
   "source": [
    "# Print the original tweet.\n",
    "print(' Original: ', train_text[0])\n",
    "\n",
    "# Print the tweet split into tokens.\n",
    "print('Tokenized: ', tokenizer.tokenize(train_text[0]))\n",
    "\n",
    "# Print the sentence mapped to token ID's.\n",
    "print('Token IDs: ', tokenizer.convert_tokens_to_ids(tokenizer.tokenize(train_text[0])))"
   ]
  },
  {
   "cell_type": "code",
   "execution_count": 7,
   "metadata": {},
   "outputs": [
    {
     "name": "stdout",
     "output_type": "stream",
     "text": [
      "Max sentence length:  84\n"
     ]
    }
   ],
   "source": [
    "# Checking the maximum length of tokenized 'text' so that we can pad all the input sequences to have the same length\n",
    "max_len = 0\n",
    "for text in train_text:    \n",
    "    input_ids = tokenizer.encode(text, add_special_tokens=True)    \n",
    "    max_len = max(max_len, len(input_ids))\n",
    "print('Max sentence length: ', max_len)"
   ]
  },
  {
   "cell_type": "code",
   "execution_count": 8,
   "metadata": {},
   "outputs": [
    {
     "name": "stderr",
     "output_type": "stream",
     "text": [
      "Truncation was not explicitly activated but `max_length` is provided a specific value, please use `truncation=True` to explicitly truncate examples to max length. Defaulting to 'longest_first' truncation strategy. If you encode pairs of sequences (GLUE-style) with the tokenizer you can select this strategy more precisely by providing a specific strategy to `truncation`.\n"
     ]
    }
   ],
   "source": [
    "# Making list of sentence lenghts\n",
    "token_lens = []\n",
    "for text in train_text:\n",
    "    tokens = tokenizer.encode(text, max_length = 512)\n",
    "    token_lens.append(len(tokens))"
   ]
  },
  {
   "cell_type": "code",
   "execution_count": 9,
   "metadata": {},
   "outputs": [
    {
     "data": {
      "image/png": "[encoded data removed]",
      "text/plain": [
       "<Figure size 640x480 with 1 Axes>"
      ]
     },
     "metadata": {},
     "output_type": "display_data"
    }
   ],
   "source": [
    "# Displaying sentence length distribution\n",
    "plt.hist(token_lens, color='skyblue', bins = 40, edgecolor='black', alpha=0.7)\n",
    "plt.grid(True)\n",
    "plt.show()"
   ]
  },
  {
   "cell_type": "code",
   "execution_count": 10,
   "metadata": {},
   "outputs": [],
   "source": [
    "# Defining a function which takes 'text' column and labels as input and returns encoded input ids and\n",
    "# attention masks for each text along with target labels (all in tensor datatype)\n",
    "def tokenize_map(sentence,labs):    \n",
    "    global labels\n",
    "    input_ids = []\n",
    "    attention_masks = []\n",
    "    for text in sentence:\n",
    "        encoded_dict = tokenizer.encode_plus(text, add_special_tokens = True, truncation='longest_first',\n",
    "                            max_length = 84, pad_to_max_length = True, return_attention_mask = True,\n",
    "                            return_tensors = 'pt')\n",
    "        input_ids.append(encoded_dict['input_ids'])\n",
    "        attention_masks.append(encoded_dict['attention_mask'])\n",
    "    input_ids = torch.cat(input_ids, dim=0)\n",
    "    attention_masks = torch.cat(attention_masks, dim=0)\n",
    "    labels = torch.tensor(labels)\n",
    "    return input_ids, attention_masks, labels"
   ]
  },
  {
   "cell_type": "code",
   "execution_count": 11,
   "metadata": {},
   "outputs": [
    {
     "name": "stderr",
     "output_type": "stream",
     "text": [
      "/Users/sonali/.local/share/virtualenvs/nlp_disaster_prediction-hxrhPPxI/lib/python3.11/site-packages/transformers/tokenization_utils_base.py:2674: FutureWarning: The `pad_to_max_length` argument is deprecated and will be removed in a future version, use `padding=True` or `padding='longest'` to pad to the longest sequence in the batch, or use `padding='max_length'` to pad to a max length. In this case, you can give a specific length with `max_length` (e.g. `max_length=45`) or leave max_length to None to pad to the maximal input size of the model (e.g. 512 for Bert).\n",
      "  warnings.warn(\n"
     ]
    }
   ],
   "source": [
    "# Encoding all the sentences in the 'train_text' dataset using above defined function\n",
    "input_ids, attention_masks, labels = tokenize_map(train_text, labels)"
   ]
  },
  {
   "cell_type": "code",
   "execution_count": 12,
   "metadata": {},
   "outputs": [],
   "source": [
    "# Combining the training inputs into a TensorDataset\n",
    "dataset = TensorDataset(input_ids, attention_masks, labels)"
   ]
  },
  {
   "cell_type": "code",
   "execution_count": 13,
   "metadata": {},
   "outputs": [
    {
     "name": "stdout",
     "output_type": "stream",
     "text": [
      "training samples: 6090\n",
      "validation samples: 1523\n"
     ]
    }
   ],
   "source": [
    "# Splitting above dataset into 80-20 'train' and 'validation' datasets\n",
    "# Calculate the number of samples to include in each set.\n",
    "train_size = int(0.8 * len(dataset))\n",
    "val_size = len(dataset) - train_size\n",
    "\n",
    "# Divide the dataset by randomly selecting samples.\n",
    "train_dataset, val_dataset = random_split(dataset, [train_size, val_size])\n",
    "print('training samples:', train_size)\n",
    "print('validation samples:', val_size)"
   ]
  },
  {
   "cell_type": "code",
   "execution_count": 14,
   "metadata": {},
   "outputs": [],
   "source": [
    "# Using Dataloader to iterate over a dataset during training\n",
    "# batch_size = 32 means 32 samples will be included in each batch during training\n",
    "batch_size = 32\n",
    "train_dataloader = DataLoader(train_dataset,sampler = RandomSampler(train_dataset),batch_size = batch_size)\n",
    "validation_dataloader = DataLoader(val_dataset, sampler = SequentialSampler(val_dataset), batch_size = batch_size)"
   ]
  },
  {
   "cell_type": "code",
   "execution_count": 15,
   "metadata": {},
   "outputs": [
    {
     "name": "stderr",
     "output_type": "stream",
     "text": [
      "Some weights of BertForSequenceClassification were not initialized from the model checkpoint at bert-base-uncased and are newly initialized: ['classifier.bias', 'classifier.weight']\n",
      "You should probably TRAIN this model on a down-stream task to be able to use it for predictions and inference.\n"
     ]
    }
   ],
   "source": [
    "# Loading BertForSequenceClassification, the pretrained BERT model with a classification layer \n",
    "# built upon the original Bert model\n",
    "model = BertForSequenceClassification.from_pretrained('bert-base-uncased',num_labels = 2, \n",
    "                                                      output_attentions = False, output_hidden_states = False)"
   ]
  },
  {
   "cell_type": "code",
   "execution_count": 16,
   "metadata": {},
   "outputs": [
    {
     "name": "stdout",
     "output_type": "stream",
     "text": [
      "The BERT model has 201 different named parameters.\n",
      "\n",
      "==== Embedding Layer ====\n",
      "\n",
      "bert.embeddings.word_embeddings.weight                  (30522, 768)\n",
      "bert.embeddings.position_embeddings.weight                (512, 768)\n",
      "bert.embeddings.token_type_embeddings.weight                (2, 768)\n",
      "bert.embeddings.LayerNorm.weight                              (768,)\n",
      "bert.embeddings.LayerNorm.bias                                (768,)\n",
      "\n",
      "==== First Transformer ====\n",
      "\n",
      "bert.encoder.layer.0.attention.self.query.weight          (768, 768)\n",
      "bert.encoder.layer.0.attention.self.query.bias                (768,)\n",
      "bert.encoder.layer.0.attention.self.key.weight            (768, 768)\n",
      "bert.encoder.layer.0.attention.self.key.bias                  (768,)\n",
      "bert.encoder.layer.0.attention.self.value.weight          (768, 768)\n",
      "bert.encoder.layer.0.attention.self.value.bias                (768,)\n",
      "bert.encoder.layer.0.attention.output.dense.weight        (768, 768)\n",
      "bert.encoder.layer.0.attention.output.dense.bias              (768,)\n",
      "bert.encoder.layer.0.attention.output.LayerNorm.weight        (768,)\n",
      "bert.encoder.layer.0.attention.output.LayerNorm.bias          (768,)\n",
      "bert.encoder.layer.0.intermediate.dense.weight           (3072, 768)\n",
      "bert.encoder.layer.0.intermediate.dense.bias                 (3072,)\n",
      "bert.encoder.layer.0.output.dense.weight                 (768, 3072)\n",
      "bert.encoder.layer.0.output.dense.bias                        (768,)\n",
      "bert.encoder.layer.0.output.LayerNorm.weight                  (768,)\n",
      "bert.encoder.layer.0.output.LayerNorm.bias                    (768,)\n",
      "\n",
      "==== Output Layer ====\n",
      "\n",
      "bert.pooler.dense.weight                                  (768, 768)\n",
      "bert.pooler.dense.bias                                        (768,)\n",
      "classifier.weight                                           (2, 768)\n",
      "classifier.bias                                                 (2,)\n"
     ]
    }
   ],
   "source": [
    "# Get all of the model's parameters as a list of tuples\n",
    "params = list(model.named_parameters())\n",
    "print('The BERT model has {:} different named parameters.\\n'.format(len(params)))\n",
    "print('==== Embedding Layer ====\\n')\n",
    "\n",
    "for p in params[0:5]:\n",
    "    print('{:<55} {:>12}'.format(p[0], str(tuple(p[1].size()))))\n",
    "print('\\n==== First Transformer ====\\n')\n",
    "\n",
    "for p in params[5:21]:\n",
    "    print('{:<55} {:>12}'.format(p[0], str(tuple(p[1].size()))))\n",
    "print('\\n==== Output Layer ====\\n')\n",
    "\n",
    "for p in params[-4:]:\n",
    "    print('{:<55} {:>12}'.format(p[0], str(tuple(p[1].size()))))"
   ]
  },
  {
   "cell_type": "code",
   "execution_count": 17,
   "metadata": {},
   "outputs": [
    {
     "name": "stderr",
     "output_type": "stream",
     "text": [
      "/Users/sonali/.local/share/virtualenvs/nlp_disaster_prediction-hxrhPPxI/lib/python3.11/site-packages/transformers/optimization.py:521: FutureWarning: This implementation of AdamW is deprecated and will be removed in a future version. Use the PyTorch implementation torch.optim.AdamW instead, or set `no_deprecation_warning=True` to disable this warning\n",
      "  warnings.warn(\n"
     ]
    }
   ],
   "source": [
    "# Using AdamW optimizer to update parameters during training\n",
    "# AdamW is an adaptation of Adam with weight decay\n",
    "\n",
    "optimizer = AdamW(model.parameters(), lr = 0.000006, eps = 0.00000001)"
   ]
  },
  {
   "cell_type": "code",
   "execution_count": 18,
   "metadata": {},
   "outputs": [],
   "source": [
    "# Choosing 3 epochs\n",
    "epochs = 3\n",
    "\n",
    "# Total number of training steps is [number of batches] x [number of epochs] \n",
    "total_steps = len(train_dataloader) * epochs\n",
    "\n",
    "# Create the learning rate scheduler to adjust the learning rate over time during training\n",
    "scheduler = get_linear_schedule_with_warmup(optimizer, num_warmup_steps = 0, num_training_steps = total_steps)"
   ]
  },
  {
   "cell_type": "code",
   "execution_count": 19,
   "metadata": {},
   "outputs": [],
   "source": [
    "# Defining functions to calculate accuracy score and AUC ROC score\n",
    "def flat_accuracy(preds, labels):    \n",
    "    pred_flat = np.argmax(preds, axis=1).flatten()\n",
    "    labels_flat = labels.flatten()\n",
    "    return accuracy_score(labels_flat, pred_flat)\n",
    "\n",
    "def flat_roc_auc(preds, labels):    \n",
    "    pred_flat = np.argmax(preds, axis=1).flatten()\n",
    "    labels_flat = labels.flatten()\n",
    "    return roc_auc_score(labels_flat, pred_flat)"
   ]
  },
  {
   "cell_type": "code",
   "execution_count": 20,
   "metadata": {},
   "outputs": [],
   "source": [
    "# Defining a function to train model\n",
    "# Takes model, training dataloader, optimizer and scheduler as inputs and returns average training loss\n",
    "def train_epoch(model, train_dataloader, optimizer, scheduler):\n",
    "    model.train()\n",
    "    total_train_loss = 0\n",
    "\n",
    "    for step, batch in enumerate(train_dataloader):\n",
    "        b_input_ids = batch[0]\n",
    "        b_input_mask = batch[1]\n",
    "        b_labels = batch[2]\n",
    "        model.zero_grad()\n",
    "        loss, logits = model(b_input_ids, token_type_ids=None, attention_mask=b_input_mask, labels=b_labels).to_tuple()\n",
    "        total_train_loss += loss.item()\n",
    "        loss.backward()\n",
    "        torch.nn.utils.clip_grad_norm_(model.parameters(), 1.0)\n",
    "        optimizer.step()\n",
    "        scheduler.step()\n",
    "\n",
    "    avg_train_loss = total_train_loss / len(train_dataloader)\n",
    "    return avg_train_loss"
   ]
  },
  {
   "cell_type": "code",
   "execution_count": 21,
   "metadata": {},
   "outputs": [],
   "source": [
    "# Defining a function to evaluate model\n",
    "# Takes model and validation dataloader as inputs and returns average loss, average accuracy and average roc auc score\n",
    "def evaluate(model, validation_dataloader):\n",
    "    model.eval()\n",
    "    total_loss = 0\n",
    "    total_accuracy = 0\n",
    "    total_roc_auc = 0\n",
    "    total_batches = 0\n",
    "\n",
    "    for batch in validation_dataloader:\n",
    "        b_input_ids = batch[0]\n",
    "        b_input_mask = batch[1]\n",
    "        b_labels = batch[2]\n",
    "        with torch.no_grad():\n",
    "            loss, logits = model(b_input_ids, token_type_ids=None, attention_mask=b_input_mask, labels=b_labels).to_tuple()\n",
    "        total_loss += loss.item()\n",
    "        logits = logits.detach().numpy()\n",
    "        label_ids = b_labels.numpy()\n",
    "        total_accuracy += flat_accuracy(logits, label_ids)\n",
    "        total_roc_auc += flat_roc_auc(logits, label_ids)\n",
    "        total_batches += 1\n",
    "\n",
    "    avg_loss = total_loss / total_batches\n",
    "    avg_accuracy = total_accuracy / total_batches\n",
    "    avg_roc_auc = total_roc_auc / total_batches\n",
    "    return avg_loss, avg_accuracy, avg_roc_auc"
   ]
  },
  {
   "cell_type": "code",
   "execution_count": 22,
   "metadata": {},
   "outputs": [],
   "source": [
    "# Defining a function to train model; Returns training stats (average training loss, \n",
    "# validation loss, validation accuracy and validation ROC AUC score for each epoch)\n",
    "def train_model(model, train_dataloader, validation_dataloader, optimizer, scheduler, epochs):\n",
    "    training_stats = []\n",
    "\n",
    "    for epoch_i in range(epochs):\n",
    "        print('')\n",
    "        print('======== Epoch {:} / {:} ========'.format(epoch_i + 1, epochs))\n",
    "        print('Training...')\n",
    "        avg_train_loss = train_epoch(model, train_dataloader, optimizer, scheduler)\n",
    "        print('  Average training loss: {0:.2f}'.format(avg_train_loss))\n",
    "\n",
    "        print('')\n",
    "        print('Running Validation...')\n",
    "        avg_val_loss, avg_val_accuracy, avg_val_roc_auc = evaluate(model, validation_dataloader)\n",
    "        print('  Accuracy: {0:.2f}'.format(avg_val_accuracy))\n",
    "        print('  Roc Auc Score: {0:.2f}'.format(avg_val_roc_auc))\n",
    "        print('  Validation Loss: {0:.2f}'.format(avg_val_loss))\n",
    "\n",
    "        training_stats.append({\n",
    "            'epoch': epoch_i + 1,\n",
    "            'Training Loss': avg_train_loss,\n",
    "            'Valid. Loss': avg_val_loss,\n",
    "            'Valid. Accur.': avg_val_accuracy,\n",
    "            'Val_roc_auc': avg_val_roc_auc\n",
    "        })\n",
    "\n",
    "    print('')\n",
    "    print('Training complete!')\n",
    "    return training_stats"
   ]
  },
  {
   "cell_type": "code",
   "execution_count": 23,
   "metadata": {},
   "outputs": [
    {
     "name": "stdout",
     "output_type": "stream",
     "text": [
      "\n",
      "======== Epoch 1 / 3 ========\n",
      "Training...\n",
      "  Average training loss: 0.51\n",
      "\n",
      "Running Validation...\n",
      "  Accuracy: 0.81\n",
      "  Roc Auc Score: 0.81\n",
      "  Validation Loss: 0.44\n",
      "\n",
      "======== Epoch 2 / 3 ========\n",
      "Training...\n",
      "  Average training loss: 0.39\n",
      "\n",
      "Running Validation...\n",
      "  Accuracy: 0.82\n",
      "  Roc Auc Score: 0.82\n",
      "  Validation Loss: 0.42\n",
      "\n",
      "======== Epoch 3 / 3 ========\n",
      "Training...\n",
      "  Average training loss: 0.35\n",
      "\n",
      "Running Validation...\n",
      "  Accuracy: 0.83\n",
      "  Roc Auc Score: 0.82\n",
      "  Validation Loss: 0.42\n",
      "\n",
      "Training complete!\n"
     ]
    }
   ],
   "source": [
    "# Training model using above defined function\n",
    "training_stats = train_model(model, train_dataloader, validation_dataloader, optimizer, scheduler, epochs)"
   ]
  },
  {
   "cell_type": "code",
   "execution_count": 24,
   "metadata": {},
   "outputs": [
    {
     "name": "stdout",
     "output_type": "stream",
     "text": [
      "   epoch  Training Loss  Valid. Loss  Valid. Accur.  Val_roc_auc\n",
      "0      1       0.505487     0.436149       0.813768     0.807380\n",
      "1      2       0.389917     0.423631       0.822882     0.815090\n",
      "2      3       0.353975     0.415006       0.828742     0.819409\n"
     ]
    }
   ],
   "source": [
    "# Converting training_stats to dataframe and printing the dataframe\n",
    "df_stats = pd.DataFrame(data=training_stats)\n",
    "print(df_stats)"
   ]
  },
  {
   "cell_type": "code",
   "execution_count": 25,
   "metadata": {},
   "outputs": [
    {
     "data": {
      "image/png": "[encoded data removed]",
      "text/plain": [
       "<Figure size 300x200 with 1 Axes>"
      ]
     },
     "metadata": {},
     "output_type": "display_data"
    }
   ],
   "source": [
    "# Plotting the learning curve\n",
    "fig, axes = plt.subplots(figsize=(3,2))\n",
    "plt.plot(df_stats['Training Loss'], 'b-o', label='Training')\n",
    "plt.plot(df_stats['Valid. Loss'], 'g-o', label='Validation')\n",
    "plt.title('Training & Validation Loss')\n",
    "plt.xlabel('Epoch')\n",
    "plt.ylabel('Loss')\n",
    "plt.legend()\n",
    "plt.xticks([1, 2, 3])\n",
    "plt.show()"
   ]
  }
 ],
 "metadata": {
  "kernelspec": {
   "display_name": "Python 3",
   "language": "python",
   "name": "python3"
  },
  "language_info": {
   "codemirror_mode": {
    "name": "ipython",
    "version": 3
   },
   "file_extension": ".py",
   "mimetype": "text/x-python",
   "name": "python",
   "nbconvert_exporter": "python",
   "pygments_lexer": "ipython3",
   "version": "3.11.6"
  }
 },
 "nbformat": 4,
 "nbformat_minor": 2
}
